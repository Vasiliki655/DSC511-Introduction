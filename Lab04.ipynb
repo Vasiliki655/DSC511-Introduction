{
  "cells": [
    {
      "cell_type": "markdown",
      "metadata": {
        "id": "view-in-github",
        "colab_type": "text"
      },
      "source": [
        "<a href=\"https://colab.research.google.com/github/Vasiliki655/DSC511-Introduction/blob/main/Lab04.ipynb\" target=\"_parent\"><img src=\"https://colab.research.google.com/assets/colab-badge.svg\" alt=\"Open In Colab\"/></a>"
      ]
    },
    {
      "cell_type": "markdown",
      "metadata": {
        "id": "IMK-sOnOLqMy"
      },
      "source": [
        "# Lab04: Map - Reduce\n",
        "Traditionally, Hadoop utilizes Java as its primary programming language. However, for hands-on experience in writing MapReduce programs, we will utilize the <Strong>MRJob Python library</strong>. To execute the code in Google Colab, we will <strong>export our MapReduce code into a Python file</strong> and then invoke it, providing the desired file as input. Here's an example on how to use MRJob:\n",
        "\n",
        "```python\n",
        "%%file python_file_to_be_exported.py\n",
        "\n",
        "from mrjob.job import MRJob\n",
        "\n",
        "# Define a class which inherits from MRJob\n",
        "class MRJobExtended(MRJob):\n",
        "\n",
        "    # Define a mapper method within the class\n",
        "    def mapper(self, key, value):\n",
        "        # do smth\n",
        "        # then yield (return)\n",
        "        yield (key, list_of_values)\n",
        "\n",
        "    # Define a reducer method within the class\n",
        "    def reducer(self, key, list_of_values):\n",
        "        # do smth\n",
        "        # then yield (return)\n",
        "        yield (key, final_value)\n",
        "```\n",
        "\n",
        "<br><strong>Note:</strong> Keep in mind that the exported file is not automatically saved in your Google Drive; instead, it is stored on temporary disk space which will be reclaimed shortly after your session ends. For permanent data storage, we will explore how to mount files from Google Drive in another tutorial."
      ]
    },
    {
      "cell_type": "markdown",
      "metadata": {
        "id": "Tnif-HLUMkMS"
      },
      "source": [
        "## Setup\n",
        "Let's install mrjob"
      ]
    },
    {
      "cell_type": "code",
      "execution_count": 1,
      "metadata": {
        "colab": {
          "base_uri": "https://localhost:8080/"
        },
        "id": "go-fdvLYNNoB",
        "outputId": "3a1c7737-5f6f-4285-c227-4acb535a75b8"
      },
      "outputs": [
        {
          "output_type": "stream",
          "name": "stdout",
          "text": [
            "Collecting mrjob\n",
            "  Downloading mrjob-0.7.4-py2.py3-none-any.whl.metadata (7.3 kB)\n",
            "Requirement already satisfied: PyYAML>=3.10 in /usr/local/lib/python3.11/dist-packages (from mrjob) (6.0.2)\n",
            "Downloading mrjob-0.7.4-py2.py3-none-any.whl (439 kB)\n",
            "\u001b[2K   \u001b[90m━━━━━━━━━━━━━━━━━━━━━━━━━━━━━━━━━━━━━━━━\u001b[0m \u001b[32m439.6/439.6 kB\u001b[0m \u001b[31m5.0 MB/s\u001b[0m eta \u001b[36m0:00:00\u001b[0m\n",
            "\u001b[?25hInstalling collected packages: mrjob\n",
            "Successfully installed mrjob-0.7.4\n"
          ]
        }
      ],
      "source": [
        "! pip install mrjob"
      ]
    },
    {
      "cell_type": "markdown",
      "metadata": {
        "id": "gQTGMSHTL1gd"
      },
      "source": [
        "## Task 0: WordCount\n",
        "Its aim is to find the frequency of each word in a set of (one or more) input files.<br>\n",
        "<strong>Note:</strong> You need to download the [wordcount.txt](https://www.cs.ucy.ac.cy/~jgeorg02/dsc511/hadoop/wordcount.txt) (click on the link > right click > save as..) and upload it as shown in slide 7."
      ]
    },
    {
      "cell_type": "code",
      "execution_count": 2,
      "metadata": {
        "colab": {
          "base_uri": "https://localhost:8080/"
        },
        "id": "dSCuxNYCLhGr",
        "outputId": "0a819eff-b9b8-4341-f408-8fe0a5ccd810"
      },
      "outputs": [
        {
          "output_type": "stream",
          "name": "stdout",
          "text": [
            "Writing wordcount.py\n"
          ]
        }
      ],
      "source": [
        "%%file wordcount.py\n",
        "\n",
        "from mrjob.job import MRJob\n",
        "\n",
        "### start the process locally\n",
        "# in reality differne process\n",
        "\n",
        "## this file will be save in the local space of google colab\n",
        "\n",
        "# Define a class named MRWordCount which inherits from MRJob\n",
        "class MRWordCount(MRJob):   # inherint the functions that MRJobs has\n",
        "\n",
        "    # Define a mapper method within the class\n",
        "    def mapper(self, _, line):  ## self is for python\n",
        "        # Split the line into words and iterate over each word\n",
        "        for word in line.split():\n",
        "            # Yield (return) key-value pairs, where the key is the word and the value is 1\n",
        "            yield (word, 1)  ## 1 - list of values that reducer needs to have as an input\n",
        "\n",
        "    # Define a reducer method within the class\n",
        "    def reducer(self, word, counts):\n",
        "        # TODO: fill the reducer code\n",
        "        result=0\n",
        "        for value in counts:\n",
        "          result+=value\n",
        "        yield(word,result)"
      ]
    },
    {
      "cell_type": "code",
      "execution_count": 3,
      "metadata": {
        "id": "gcap59-NUSbk"
      },
      "outputs": [],
      "source": [
        "def run_mr_job(mr_job):\n",
        "  # Create a runner for the MapReduce job\n",
        "  with mr_job.make_runner() as runner:\n",
        "      # Run the MapReduce job\n",
        "      runner.run()\n",
        "\n",
        "      # Iterate over the output of the MapReduce job\n",
        "      for key, value in mr_job.parse_output(runner.cat_output()):\n",
        "          # Print each key-value pair (word, count)\n",
        "          print(key, value)"
      ]
    },
    {
      "cell_type": "code",
      "execution_count": 5,
      "metadata": {
        "colab": {
          "base_uri": "https://localhost:8080/"
        },
        "id": "cyBrRM6JL1CP",
        "outputId": "14d9c609-f394-45fc-dd59-42c83f974a40"
      },
      "outputs": [
        {
          "output_type": "stream",
          "name": "stderr",
          "text": [
            "WARNING:mrjob.conf:No configs specified for inline runner\n"
          ]
        },
        {
          "output_type": "stream",
          "name": "stdout",
          "text": [
            "cloud 1\n",
            "clustering 1\n",
            "combination 1\n",
            "community 1\n",
            "computing, 1\n",
            "course 3\n",
            "coverage 1\n",
            "current 1\n",
            "data 1\n",
            "datasets 1\n",
            "dedicated 1\n",
            "detection, 1\n",
            "dimensionality 1\n",
            "e-commerce, 1\n",
            "etc. 1\n",
            "explored. 1\n",
            "fields, 1\n",
            "for 1\n",
            "foundational 1\n",
            "from 1\n",
            "good 1\n",
            "graph 1\n",
            "in 2\n",
            "information 1\n",
            "infrastructure 1\n",
            "Apache 1\n",
            "For 1\n",
            "Hadoop 1\n",
            "Spark. 1\n",
            "Specifically, 1\n",
            "The 1\n",
            "This 1\n",
            "Together, 1\n",
            "a 4\n",
            "ad 1\n",
            "algorithms, 1\n",
            "analytics 1\n",
            "and 8\n",
            "applications 2\n",
            "at 1\n",
            "auctions. 1\n",
            "balance 1\n",
            "based 1\n",
            "basic 1\n",
            "be 1\n",
            "between 1\n",
            "but 1\n",
            "by 1\n",
            "inspired 1\n",
            "internet 1\n",
            "is 1\n",
            "laboratory 1\n",
            "large-scale 1\n",
            "look 1\n",
            "main 1\n",
            "material 1\n",
            "materials 1\n",
            "media, 1\n",
            "mining 1\n",
            "models, 1\n",
            "networking, 1\n",
            "networks, 1\n",
            "of 3\n",
            "on 1\n",
            "online 1\n",
            "practice 1\n",
            "provide 1\n",
            "real 1\n",
            "real-world 1\n",
            "recommender 1\n",
            "reduction, 1\n",
            "related 1\n",
            "relatively 1\n",
            "search/retrieval/topic 1\n",
            "seeks 1\n",
            "services. 1\n",
            "sessions, 1\n",
            "several 1\n",
            "social 3\n",
            "statistics, 1\n",
            "stream 1\n",
            "students 1\n",
            "systems, 1\n",
            "the 3\n",
            "theoretical 1\n",
            "theory 1\n",
            "these 1\n",
            "this 1\n",
            "this, 1\n",
            "uses 1\n",
            "weekly 1\n",
            "where 1\n",
            "will 3\n",
            "with 2\n",
            "work 1\n",
            "world 1\n"
          ]
        }
      ],
      "source": [
        "import wordcount\n",
        "\n",
        "# uncomment the following two lines when wanting to reload the python file, or you can restart the session\n",
        "# import importlib\n",
        "# importlib.reload(wordcount)\n",
        "\n",
        "# Create an instance of the MRWordCount class, specifying the input file 'wordcount.txt'\n",
        "mr_job = wordcount.MRWordCount(args=['wordcount.txt'])\n",
        "## file(that we have exported).class\n",
        "\n",
        "# call run run_mr_job method to run the job and print the output\n",
        "run_mr_job(mr_job)"
      ]
    },
    {
      "cell_type": "markdown",
      "metadata": {
        "id": "dybW77QHbdyO"
      },
      "source": [
        "## Task 1: Palindrome Words\n",
        "Find the frequency of palindrome words. <br>\n",
        "A palindrome is a word that reads the same backwards as forwards, such as madam or racecar. <br>\n",
        "As input give the file [palindrome_words.txt](https://www.cs.ucy.ac.cy/~jgeorg02/dsc511/hadoop/palindrome_words.txt) <br>\n",
        "Example of output: `word frequency`, where frequency is the number of times that word appeared in the file."
      ]
    },
    {
      "cell_type": "code",
      "execution_count": 1,
      "metadata": {
        "colab": {
          "base_uri": "https://localhost:8080/"
        },
        "id": "A0Qdt_Qtbf_z",
        "outputId": "27736cf7-ddba-4948-82b2-02282576cc60"
      },
      "outputs": [
        {
          "output_type": "stream",
          "name": "stdout",
          "text": [
            "Overwriting palindrome.py\n"
          ]
        }
      ],
      "source": [
        "%%file palindrome.py\n",
        "\n",
        "from mrjob.job import MRJob\n",
        "\n",
        "class MRPalindrome(MRJob):\n",
        "\n",
        "    def mapper(self, _, word):\n",
        "      # TODO: fill the mapper code\n",
        "      if word==word[::-1]:\n",
        "        yield(word,1)\n",
        "\n",
        "    def reducer(self, word, counts):\n",
        "      # TODO: fill the reducer code\n",
        "      yield(word,sum(counts))"
      ]
    },
    {
      "cell_type": "code",
      "execution_count": 4,
      "metadata": {
        "colab": {
          "base_uri": "https://localhost:8080/"
        },
        "id": "h39JRTyibf_1",
        "outputId": "2f803eb6-d91b-41ec-eb3f-3a453eaf42e3"
      },
      "outputs": [
        {
          "output_type": "stream",
          "name": "stderr",
          "text": [
            "WARNING:mrjob.conf:No configs specified for inline runner\n"
          ]
        },
        {
          "output_type": "stream",
          "name": "stdout",
          "text": [
            "level 2\n",
            "noon 2\n",
            "racecar 2\n",
            "radar 2\n",
            "civic 1\n",
            "deed 2\n",
            "kayak 6\n",
            "rotor 3\n",
            "stats 1\n",
            "tenet 5\n"
          ]
        }
      ],
      "source": [
        "import palindrome\n",
        "\n",
        "mr_job = palindrome.MRPalindrome(args=['palindrome_words.txt'])\n",
        "run_mr_job(mr_job)"
      ]
    }
  ],
  "metadata": {
    "colab": {
      "provenance": [],
      "include_colab_link": true
    },
    "kernelspec": {
      "display_name": "Python 3",
      "name": "python3"
    },
    "language_info": {
      "name": "python"
    }
  },
  "nbformat": 4,
  "nbformat_minor": 0
}