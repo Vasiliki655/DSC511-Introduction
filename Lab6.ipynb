{
  "cells": [
    {
      "cell_type": "markdown",
      "metadata": {
        "id": "view-in-github",
        "colab_type": "text"
      },
      "source": [
        "<a href=\"https://colab.research.google.com/github/Vasiliki655/DSC511-Introduction/blob/main/Lab6.ipynb\" target=\"_parent\"><img src=\"https://colab.research.google.com/assets/colab-badge.svg\" alt=\"Open In Colab\"/></a>"
      ]
    },
    {
      "cell_type": "markdown",
      "id": "8e8d1ed2-2db8-4c64-8aec-5aaf83efe6ae",
      "metadata": {
        "id": "8e8d1ed2-2db8-4c64-8aec-5aaf83efe6ae"
      },
      "source": [
        "# Introduction to Apache Spark II\n",
        "Last time we familiarized with RDDs, today we will move on to DataFrames!"
      ]
    },
    {
      "cell_type": "code",
      "execution_count": null,
      "id": "nJor3CO5WwYh",
      "metadata": {
        "colab": {
          "base_uri": "https://localhost:8080/"
        },
        "id": "nJor3CO5WwYh",
        "outputId": "ff5c3fd3-95ec-4ede-cef6-ba3fe8c3fb68"
      },
      "outputs": [
        {
          "output_type": "stream",
          "name": "stdout",
          "text": [
            "Requirement already satisfied: pyspark in /usr/local/lib/python3.11/dist-packages (3.5.5)\n",
            "Requirement already satisfied: py4j==0.10.9.7 in /usr/local/lib/python3.11/dist-packages (from pyspark) (0.10.9.7)\n"
          ]
        }
      ],
      "source": [
        "! pip install pyspark"
      ]
    },
    {
      "cell_type": "markdown",
      "id": "92d53b8d-3c00-43b0-a2e0-833c8a536725",
      "metadata": {
        "id": "92d53b8d-3c00-43b0-a2e0-833c8a536725"
      },
      "source": [
        "## Defining master within pyspark\n",
        "This time, due to the fact that we are going to use DataFrames, which are defined under Spark SQL, it is essential that we import SparkSession and not SparkContext & SparkConf."
      ]
    },
    {
      "cell_type": "code",
      "execution_count": null,
      "id": "74530d67-6045-41a4-abd5-b8ef008b1f27",
      "metadata": {
        "id": "74530d67-6045-41a4-abd5-b8ef008b1f27"
      },
      "outputs": [],
      "source": [
        "from pyspark.sql import SparkSession\n",
        "from pyspark.sql.functions import *\n",
        "\n",
        "spark = SparkSession.builder.appName(\"App\").master(\"local\").getOrCreate()"
      ]
    },
    {
      "cell_type": "markdown",
      "id": "7f5cff00-e06a-42a0-9b80-00962a662db9",
      "metadata": {
        "id": "7f5cff00-e06a-42a0-9b80-00962a662db9"
      },
      "source": [
        "## DataFrame Example 1: Create a DataFrame from External Data Sources\n",
        "\n",
        "You can download the csv from [here](https://github.com/JuliaData/CSV.jl/blob/main/test/testfiles/SalesJan2009.csv), and upload it like he have the previous times.<br><br>\n",
        "\n",
        "First of all, let's study the options that we can put when reading a csv file as a pyspark dataframe:\n",
        "```python\n",
        "spark.read.options(header='True', inferSchema='True', delimiter=',').csv(\"file.csv\")\n",
        "```\n",
        "- The first option, <strong>header</strong>, by setting it as true, it lets spark know that our csv has indeed a header, meaning the first line determines the columns/fields.\n",
        "- By enabling <strong>inferSchema</strong> Spark will automatically go through the csv file and infer the schema of each column. Although this option will make the reading slower, it will have as a result a dataframe that will most likely have a correct schema given its input (dataset).\n",
        "- Lastly, we can specify the <strong>delimiter</strong>, which in most cases it's \",\" (comma), as to specify how the fields are divided into the dataset."
      ]
    },
    {
      "cell_type": "code",
      "execution_count": null,
      "id": "9ea32340-4a90-4446-b208-df7358d1e598",
      "metadata": {
        "colab": {
          "base_uri": "https://localhost:8080/"
        },
        "id": "9ea32340-4a90-4446-b208-df7358d1e598",
        "outputId": "029cfa7e-0286-46ec-fa49-3a805f351ed4"
      },
      "outputs": [
        {
          "output_type": "stream",
          "name": "stdout",
          "text": [
            "---------Type---------\n",
            "<class 'pyspark.sql.dataframe.DataFrame'>\n",
            "--------Schema--------\n",
            "root\n",
            " |-- 1/2/09 6:17: string (nullable = true)\n",
            " |-- Product1: string (nullable = true)\n",
            " |-- 1200: integer (nullable = true)\n",
            " |-- Mastercard: string (nullable = true)\n",
            " |-- carolina: string (nullable = true)\n",
            " |-- Basildon: string (nullable = true)\n",
            " |-- England: string (nullable = true)\n",
            " |-- United Kingdom: string (nullable = true)\n",
            " |-- 1/2/09 6:00: string (nullable = true)\n",
            " |-- 1/2/09 6:08: string (nullable = true)\n",
            " |-- 51.5: double (nullable = true)\n",
            " |-- -1.1166667: double (nullable = true)\n",
            "\n",
            "-----First 5 Rows-----\n"
          ]
        },
        {
          "output_type": "execute_result",
          "data": {
            "text/plain": [
              "[Row(1/2/09 6:17='1/2/09 4:53', Product1='Product1', 1200=1200, Mastercard='Visa', carolina='Betina', Basildon='Parkville', England='MO', United Kingdom='United States', 1/2/09 6:00='1/2/09 4:42', 1/2/09 6:08='1/2/09 7:49', 51.5=39.195, -1.1166667=-94.68194),\n",
              " Row(1/2/09 6:17='1/2/09 13:08', Product1='Product1', 1200=1200, Mastercard='Mastercard', carolina='Federica e Andrea', Basildon='Astoria', England='OR', United Kingdom='United States', 1/2/09 6:00='1/1/09 16:21', 1/2/09 6:08='1/3/09 12:32', 51.5=46.18806, -1.1166667=-123.83),\n",
              " Row(1/2/09 6:17='1/3/09 14:44', Product1='Product1', 1200=1200, Mastercard='Visa', carolina='Gouya', Basildon='Echuca', England='Victoria', United Kingdom='Australia', 1/2/09 6:00='9/25/05 21:13', 1/2/09 6:08='1/3/09 14:22', 51.5=-36.1333333, -1.1166667=144.75),\n",
              " Row(1/2/09 6:17='1/4/09 12:56', Product1='Product2', 1200=3600, Mastercard='Visa', carolina='Gerd W', Basildon='Cahaba Heights', England='AL', United Kingdom='United States', 1/2/09 6:00='11/15/08 15:47', 1/2/09 6:08='1/4/09 12:45', 51.5=33.52056, -1.1166667=-86.8025),\n",
              " Row(1/2/09 6:17='1/4/09 13:19', Product1='Product1', 1200=1200, Mastercard='Visa', carolina='LAURENCE', Basildon='Mickleton', England='NJ', United Kingdom='United States', 1/2/09 6:00='9/24/08 15:19', 1/2/09 6:08='1/4/09 13:04', 51.5=39.79, -1.1166667=-75.23806)]"
            ]
          },
          "metadata": {},
          "execution_count": 3
        }
      ],
      "source": [
        "df = spark.read.options(header='True', inferSchema='True', delimiter=',').csv(\"SalesJan2009.csv\")\n",
        "print(\"---------Type---------\")   # inferSchema='True': if .... is integer if not\n",
        "print(type(df))\n",
        "print(\"--------Schema--------\")\n",
        "# with .printSchema() we can get our dataset's schema\n",
        "df.printSchema()\n",
        "print(\"-----First 5 Rows-----\")\n",
        "# and with .head(), we can get the first x rows, depending on the input we give in the method\n",
        "df.head(5)"
      ]
    },
    {
      "cell_type": "code",
      "execution_count": null,
      "id": "e6b30a9d-9d65-4081-9899-a51b1417df50",
      "metadata": {
        "colab": {
          "base_uri": "https://localhost:8080/"
        },
        "id": "e6b30a9d-9d65-4081-9899-a51b1417df50",
        "outputId": "14bbc4aa-5752-49bb-b5c8-54c0e0a7180f"
      },
      "outputs": [
        {
          "output_type": "stream",
          "name": "stdout",
          "text": [
            "--Interactive 5 Rows--\n",
            "+------------+--------+----+----------+-----------------+--------------+--------+--------------+--------------+------------+-----------+----------+\n",
            "| 1/2/09 6:17|Product1|1200|Mastercard|         carolina|      Basildon| England|United Kingdom|   1/2/09 6:00| 1/2/09 6:08|       51.5|-1.1166667|\n",
            "+------------+--------+----+----------+-----------------+--------------+--------+--------------+--------------+------------+-----------+----------+\n",
            "| 1/2/09 4:53|Product1|1200|      Visa|           Betina|     Parkville|      MO| United States|   1/2/09 4:42| 1/2/09 7:49|     39.195| -94.68194|\n",
            "|1/2/09 13:08|Product1|1200|Mastercard|Federica e Andrea|       Astoria|      OR| United States|  1/1/09 16:21|1/3/09 12:32|   46.18806|   -123.83|\n",
            "|1/3/09 14:44|Product1|1200|      Visa|            Gouya|        Echuca|Victoria|     Australia| 9/25/05 21:13|1/3/09 14:22|-36.1333333|    144.75|\n",
            "|1/4/09 12:56|Product2|3600|      Visa|           Gerd W|Cahaba Heights|      AL| United States|11/15/08 15:47|1/4/09 12:45|   33.52056|  -86.8025|\n",
            "|1/4/09 13:19|Product1|1200|      Visa|         LAURENCE|     Mickleton|      NJ| United States| 9/24/08 15:19|1/4/09 13:04|      39.79| -75.23806|\n",
            "+------------+--------+----+----------+-----------------+--------------+--------+--------------+--------------+------------+-----------+----------+\n",
            "only showing top 5 rows\n",
            "\n"
          ]
        }
      ],
      "source": [
        "print(\"--Interactive 5 Rows--\")\n",
        "# Nevertheless, as we could see above, head does not return the rows in a pretty way, so we can use .show() for that\n",
        "df.show(5)"
      ]
    },
    {
      "cell_type": "markdown",
      "id": "20dc3acf-ea98-41a4-bb9b-8f291dc87031",
      "metadata": {
        "id": "20dc3acf-ea98-41a4-bb9b-8f291dc87031"
      },
      "source": [
        "## DataFrame Example 2: Create a DataFrame from a Python List"
      ]
    },
    {
      "cell_type": "code",
      "execution_count": null,
      "id": "7beae1d7-a10d-4e13-9d45-0cb1642b81a1",
      "metadata": {
        "colab": {
          "base_uri": "https://localhost:8080/"
        },
        "id": "7beae1d7-a10d-4e13-9d45-0cb1642b81a1",
        "outputId": "0a8d5524-cc48-43f7-b5fc-23817bccfadf"
      },
      "outputs": [
        {
          "output_type": "stream",
          "name": "stdout",
          "text": [
            "+---------+----------+--------+----------+------+------+\n",
            "|firstname|middlename|lastname|       dob|gender|salary|\n",
            "+---------+----------+--------+----------+------+------+\n",
            "|    James|          |   Smith|1991-04-01|     M|  3000|\n",
            "|  Michael|      Rose|        |2000-05-19|     M|  4000|\n",
            "|   Robert|          |Williams|1978-09-05|     M|  4000|\n",
            "|    Maria|      Anne|   Jones|1967-12-01|     F|  4000|\n",
            "|      Jen|      Mary|   Brown|1980-02-17|     F|    -1|\n",
            "+---------+----------+--------+----------+------+------+\n",
            "\n"
          ]
        }
      ],
      "source": [
        "data = [('James','','Smith','1991-04-01','M',3000),\n",
        "  ('Michael','Rose','','2000-05-19','M',4000),\n",
        "  ('Robert','','Williams','1978-09-05','M',4000),\n",
        "  ('Maria','Anne','Jones','1967-12-01','F',4000),\n",
        "  ('Jen','Mary','Brown','1980-02-17','F',-1)\n",
        "]\n",
        "\n",
        "columns = [\"firstname\",\"middlename\",\"lastname\",\"dob\",\"gender\",\"salary\"]\n",
        "df = spark.createDataFrame(data=data, schema=columns)\n",
        "df.show()"
      ]
    },
    {
      "cell_type": "markdown",
      "id": "f2e551f1-ef38-437b-babb-dc6915516765",
      "metadata": {
        "id": "f2e551f1-ef38-437b-babb-dc6915516765"
      },
      "source": [
        "We can see that we cannot really see the data in a manner that we can comprehend them.\n",
        "In order to see them in a more 'interactive' way we can do the following:"
      ]
    },
    {
      "cell_type": "markdown",
      "id": "249ac381-7194-4cad-a30d-89dba1ea1ffa",
      "metadata": {
        "id": "249ac381-7194-4cad-a30d-89dba1ea1ffa"
      },
      "source": [
        "## Hands-On! :)\n",
        "You can always visit [this site](https://spark.apache.org/docs/latest/api/python/reference/pyspark.sql/api/pyspark.sql.DataFrame.html) to find pyspark RDD methods.\n",
        "### Part 1\n",
        "1. Create a DataFrame based on the \"data\" and \"columns\" list that is provided below.\n",
        "2. Count how many elements are in your DataFrame using the method .count()\n",
        "3. Print the elements that the dataframe holds using the method .show()\n",
        "4. Print the elements that the dataframe columns holds using .columns\n",
        "5. Print only the elements of the columns' \"id\" and \"Title\" using the method .select()\n",
        "6. Use the methods describe() and show() to see a summary of statistics of the dataframe"
      ]
    },
    {
      "cell_type": "code",
      "execution_count": null,
      "id": "61061877-4fc9-4360-90e7-1f3cfee6b29d",
      "metadata": {
        "id": "61061877-4fc9-4360-90e7-1f3cfee6b29d"
      },
      "outputs": [],
      "source": [
        "data = [('0','Tangled','2010','Animation|Children|Comedy|Fantasy|Musical|Romance|IMAX'),\n",
        "  ('1','Avengers: Infinity War - Part I','2018','Action|Adventure|Sci-Fi'),\n",
        "  ('2','Deadpool','2016','Action|Adventure|Comedy|Sci-Fi'),\n",
        "  ('3','Ant-Man and the Wasp','2018','Action|Adventure|Comedy|Fantasy|Sci-Fi'),\n",
        "  ('4','Logan','2017','Action|Sci-Fi'),\n",
        "  ('5','Pocahontas','1995','Animation|Children|Drama|Musical|Romance'),\n",
        "  ('6','Devil Wears Prada','2006','Comedy|Drama'),\n",
        "  ('7','Howl\\'s Moving Castle ','2004','Adventure|Animation|Fantasy|Romance'),\n",
        "  ('8','Spirited Away','2001','Adventure|Animation|Fantasy'),\n",
        "  ('9','Avatar','2009','Action|Adventure|Sci-Fi|IMAX')\n",
        "]\n",
        "\n",
        "columns = [\"id\",\"Title\",\"Year\",\"Genre\"]"
      ]
    },
    {
      "cell_type": "code",
      "execution_count": null,
      "id": "fca84679-baae-4556-91cd-bb176128f6a7",
      "metadata": {
        "id": "fca84679-baae-4556-91cd-bb176128f6a7"
      },
      "outputs": [],
      "source": [
        "# TODO 1: Create a DataFrame based on the \"data\" and \"columns\" list that is provided above.\n",
        "dataframe =spark.createDataFrame(data=data,schema=columns)"
      ]
    },
    {
      "cell_type": "code",
      "execution_count": null,
      "id": "d59149bb-2f17-4da6-ad2a-812f7892dac6",
      "metadata": {
        "colab": {
          "base_uri": "https://localhost:8080/"
        },
        "id": "d59149bb-2f17-4da6-ad2a-812f7892dac6",
        "outputId": "fa208579-5062-4842-b3c8-025fd22e2922"
      },
      "outputs": [
        {
          "output_type": "execute_result",
          "data": {
            "text/plain": [
              "10"
            ]
          },
          "metadata": {},
          "execution_count": 13
        }
      ],
      "source": [
        "# TODO 2: Count how many elements are in your DataFrame using the method .count()\n",
        "dataframe.count()"
      ]
    },
    {
      "cell_type": "code",
      "execution_count": null,
      "id": "06b71d9f-d861-4710-bd70-3cf7a77a1122",
      "metadata": {
        "colab": {
          "base_uri": "https://localhost:8080/"
        },
        "id": "06b71d9f-d861-4710-bd70-3cf7a77a1122",
        "outputId": "4ab3baf2-f3ff-48eb-cda5-5d32e37482a7"
      },
      "outputs": [
        {
          "output_type": "stream",
          "name": "stdout",
          "text": [
            "+---+--------------------+----+--------------------+\n",
            "| id|               Title|Year|               Genre|\n",
            "+---+--------------------+----+--------------------+\n",
            "|  0|             Tangled|2010|Animation|Childre...|\n",
            "|  1|Avengers: Infinit...|2018|Action|Adventure|...|\n",
            "|  2|            Deadpool|2016|Action|Adventure|...|\n",
            "|  3|Ant-Man and the Wasp|2018|Action|Adventure|...|\n",
            "|  4|               Logan|2017|       Action|Sci-Fi|\n",
            "|  5|          Pocahontas|1995|Animation|Childre...|\n",
            "|  6|   Devil Wears Prada|2006|        Comedy|Drama|\n",
            "|  7|Howl's Moving Cas...|2004|Adventure|Animati...|\n",
            "|  8|       Spirited Away|2001|Adventure|Animati...|\n",
            "|  9|              Avatar|2009|Action|Adventure|...|\n",
            "+---+--------------------+----+--------------------+\n",
            "\n"
          ]
        }
      ],
      "source": [
        "# TODO 3: Print the elements that the dataframe holds using the method .show()\n",
        "dataframe.show()"
      ]
    },
    {
      "cell_type": "code",
      "execution_count": null,
      "id": "cc379309-fd3a-461e-96ab-6c78bcb0feaa",
      "metadata": {
        "colab": {
          "base_uri": "https://localhost:8080/"
        },
        "id": "cc379309-fd3a-461e-96ab-6c78bcb0feaa",
        "outputId": "4d882e17-a622-4c46-80b8-d3baebe65a82"
      },
      "outputs": [
        {
          "output_type": "execute_result",
          "data": {
            "text/plain": [
              "['id', 'Title', 'Year', 'Genre']"
            ]
          },
          "metadata": {},
          "execution_count": 15
        }
      ],
      "source": [
        "# TODO 4: Print the elements that the dataframe columns holds using .columns\n",
        "dataframe.columns"
      ]
    },
    {
      "cell_type": "code",
      "execution_count": null,
      "id": "948d2a7f-4201-4c97-aabd-9e896207c5d1",
      "metadata": {
        "colab": {
          "base_uri": "https://localhost:8080/"
        },
        "id": "948d2a7f-4201-4c97-aabd-9e896207c5d1",
        "outputId": "f822465b-7dd5-46b6-d414-28b1992ef523"
      },
      "outputs": [
        {
          "output_type": "stream",
          "name": "stdout",
          "text": [
            "+---+--------------------+\n",
            "| id|               Title|\n",
            "+---+--------------------+\n",
            "|  0|             Tangled|\n",
            "|  1|Avengers: Infinit...|\n",
            "|  2|            Deadpool|\n",
            "|  3|Ant-Man and the Wasp|\n",
            "|  4|               Logan|\n",
            "|  5|          Pocahontas|\n",
            "|  6|   Devil Wears Prada|\n",
            "|  7|Howl's Moving Cas...|\n",
            "|  8|       Spirited Away|\n",
            "|  9|              Avatar|\n",
            "+---+--------------------+\n",
            "\n"
          ]
        }
      ],
      "source": [
        "# TODO 5: Print only the elements of the columns' \"id\" and \"Title\" using the method .select()\n",
        "dataframe.select(\"id\",\"Title\").show()"
      ]
    },
    {
      "cell_type": "code",
      "execution_count": null,
      "id": "228c1931-3e76-4c92-badf-bf02fd382ac8",
      "metadata": {
        "colab": {
          "base_uri": "https://localhost:8080/"
        },
        "id": "228c1931-3e76-4c92-badf-bf02fd382ac8",
        "outputId": "22124846-e8c5-4039-f580-e225d44b29a6"
      },
      "outputs": [
        {
          "output_type": "stream",
          "name": "stdout",
          "text": [
            "+-------+------------------+--------------------+-----------------+--------------------+\n",
            "|summary|                id|               Title|             Year|               Genre|\n",
            "+-------+------------------+--------------------+-----------------+--------------------+\n",
            "|  count|                10|                  10|               10|                  10|\n",
            "|   mean|               4.5|                NULL|           2009.4|                NULL|\n",
            "| stddev|3.0276503540974917|                NULL|7.947046970765625|                NULL|\n",
            "|    min|                 0|Ant-Man and the Wasp|             1995|Action|Adventure|...|\n",
            "|    max|                 9|             Tangled|             2018|        Comedy|Drama|\n",
            "+-------+------------------+--------------------+-----------------+--------------------+\n",
            "\n"
          ]
        }
      ],
      "source": [
        "# TODO 6: Use the methods .describe() and .show() to see a summary of statistics of the dataframe\n",
        "dataframe.describe().show()"
      ]
    },
    {
      "cell_type": "markdown",
      "id": "d158e9ff-6e3c-4a6c-b6a0-9d0a6f35f2ed",
      "metadata": {
        "id": "d158e9ff-6e3c-4a6c-b6a0-9d0a6f35f2ed"
      },
      "source": [
        "## Part 2: Load the csv into a PySpark DataFrame and perform the following basic operations:\n",
        "1. Read the contents of the \"SalesJan2009.csv\" file into a dataframe. (The same dataset as we used in our example)\n",
        "2. Filter out all products that have a price under 100 and print the result\n",
        "3. Group your dataframe by the column Country. Then use aggregation to get the average of the column Price, and the its sum, and print the result.\n",
        "\n",
        "<strong>** Tip, you can use the method .alias() to change the name of the produced column, e.g. sum(\"Price\").alias(\"total_sales\")</strong>"
      ]
    },
    {
      "cell_type": "code",
      "execution_count": null,
      "id": "b5b74fe6-f4a1-4ba0-b376-4573b3d88267",
      "metadata": {
        "id": "b5b74fe6-f4a1-4ba0-b376-4573b3d88267"
      },
      "outputs": [],
      "source": [
        "# TODO 1: Read the contents of the \"SalesJan2009.csv\" file into a dataframe\n",
        "df = spark.read.options(header='True',cinferSchema='True', delimiter=',').csv(\"SalesJan2009.csv\")"
      ]
    },
    {
      "cell_type": "code",
      "source": [
        "df.columns"
      ],
      "metadata": {
        "colab": {
          "base_uri": "https://localhost:8080/"
        },
        "id": "ab1Z-9skvzGY",
        "outputId": "7a75dc40-4c3a-42af-f6ee-7f24bd3b67ee"
      },
      "id": "ab1Z-9skvzGY",
      "execution_count": null,
      "outputs": [
        {
          "output_type": "execute_result",
          "data": {
            "text/plain": [
              "['Transaction_date',\n",
              " 'Product',\n",
              " 'Price',\n",
              " 'Payment_Type',\n",
              " 'Name',\n",
              " 'City',\n",
              " 'State',\n",
              " 'Country',\n",
              " 'Account_Created',\n",
              " 'Last_Login',\n",
              " 'Latitude',\n",
              " 'Longitude']"
            ]
          },
          "metadata": {},
          "execution_count": 38
        }
      ]
    },
    {
      "cell_type": "code",
      "execution_count": null,
      "id": "db7733c5-d6dc-4859-bf63-bdf5950668bc",
      "metadata": {
        "colab": {
          "base_uri": "https://localhost:8080/"
        },
        "id": "db7733c5-d6dc-4859-bf63-bdf5950668bc",
        "outputId": "9ff877e0-7759-4b3e-a61e-734c72e3190a"
      },
      "outputs": [
        {
          "output_type": "stream",
          "name": "stdout",
          "text": [
            "+----------------+--------+-----+------------+-----------------+--------------------+--------------+--------------+---------------+------------+-----------+----------+\n",
            "|Transaction_date| Product|Price|Payment_Type|             Name|                City|         State|       Country|Account_Created|  Last_Login|   Latitude| Longitude|\n",
            "+----------------+--------+-----+------------+-----------------+--------------------+--------------+--------------+---------------+------------+-----------+----------+\n",
            "|     1/2/09 6:17|Product1| 1200|  Mastercard|         carolina|            Basildon|       England|United Kingdom|    1/2/09 6:00| 1/2/09 6:08|       51.5|-1.1166667|\n",
            "|     1/2/09 4:53|Product1| 1200|        Visa|           Betina|Parkville        ...|            MO| United States|    1/2/09 4:42| 1/2/09 7:49|     39.195| -94.68194|\n",
            "|    1/2/09 13:08|Product1| 1200|  Mastercard|Federica e Andrea|Astoria          ...|            OR| United States|   1/1/09 16:21|1/3/09 12:32|   46.18806|   -123.83|\n",
            "|    1/3/09 14:44|Product1| 1200|        Visa|            Gouya|              Echuca|      Victoria|     Australia|  9/25/05 21:13|1/3/09 14:22|-36.1333333|    144.75|\n",
            "|    1/4/09 12:56|Product2| 3600|        Visa|          Gerd W |Cahaba Heights   ...|            AL| United States| 11/15/08 15:47|1/4/09 12:45|   33.52056|  -86.8025|\n",
            "|    1/4/09 13:19|Product1| 1200|        Visa|         LAURENCE|Mickleton        ...|            NJ| United States|  9/24/08 15:19|1/4/09 13:04|      39.79| -75.23806|\n",
            "|    1/4/09 20:11|Product1| 1200|  Mastercard|            Fleur|Peoria           ...|            IL| United States|    1/3/09 9:38|1/4/09 19:45|   40.69361| -89.58889|\n",
            "|    1/2/09 20:09|Product1| 1200|  Mastercard|             adam|Martin           ...|            TN| United States|   1/2/09 17:43|1/4/09 20:01|   36.34333| -88.85028|\n",
            "|    1/4/09 13:17|Product1| 1200|  Mastercard|  Renee Elisabeth|            Tel Aviv|      Tel Aviv|        Israel|   1/4/09 13:03|1/4/09 22:10| 32.0666667|34.7666667|\n",
            "|    1/4/09 14:11|Product1| 1200|        Visa|            Aidan|              Chatou| Ile-de-France|        France|    6/3/08 4:22| 1/5/09 1:17| 48.8833333|      2.15|\n",
            "|     1/5/09 2:42|Product1| 1200|      Diners|            Stacy|New York         ...|            NY| United States|    1/5/09 2:23| 1/5/09 4:59|   40.71417| -74.00639|\n",
            "|     1/5/09 5:39|Product1| 1200|        Amex|            Heidi|           Eindhoven| Noord-Brabant|   Netherlands|    1/5/09 4:55| 1/5/09 8:15|      51.45| 5.4666667|\n",
            "|     1/2/09 9:16|Product1| 1200|  Mastercard|            Sean |Shavano Park     ...|            TX| United States|    1/2/09 8:32| 1/5/09 9:05|   29.42389| -98.49333|\n",
            "|    1/5/09 10:08|Product1| 1200|        Visa|          Georgia|Eagle            ...|            ID| United States| 11/11/08 15:53|1/5/09 10:05|   43.69556|-116.35306|\n",
            "|    1/2/09 14:18|Product1| 1200|        Visa|          Richard|Riverside        ...|            NJ| United States|  12/9/08 12:07|1/5/09 11:01|   40.03222| -74.95778|\n",
            "|     1/4/09 1:05|Product1| 1200|      Diners|           Leanne|         Julianstown|         Meath|       Ireland|    1/4/09 0:00|1/5/09 13:36| 53.6772222|-6.3191667|\n",
            "|    1/5/09 11:37|Product1| 1200|        Visa|            Janet|              Ottawa|       Ontario|        Canada|    1/5/09 9:35|1/5/09 19:24| 45.4166667|     -75.7|\n",
            "|     1/6/09 5:02|Product1| 1200|      Diners|          barbara|           Hyderabad|Andhra Pradesh|         India|    1/6/09 2:41| 1/6/09 7:52| 17.3833333|78.4666667|\n",
            "|     1/6/09 7:45|Product2| 3600|        Visa|           Sabine|              London|       England|United Kingdom|    1/6/09 7:00| 1/6/09 9:17|   51.52721|   0.14559|\n",
            "|     1/2/09 7:35|Product1| 1200|      Diners|             Hani|Salt Lake City   ...|            UT| United States|  12/30/08 5:44|1/6/09 10:52|   40.76083|-111.89028|\n",
            "+----------------+--------+-----+------------+-----------------+--------------------+--------------+--------------+---------------+------------+-----------+----------+\n",
            "only showing top 20 rows\n",
            "\n"
          ]
        }
      ],
      "source": [
        "# TODO 2: Filter out all products that have a price under 100 and print the result\n",
        "filtered_df = df.filter(df.Price>=100) # col(\"Price\")\n",
        "filtered_df.show()"
      ]
    },
    {
      "cell_type": "code",
      "execution_count": null,
      "id": "0929c48c-cbcf-4c7b-8cc4-addde94d0be7",
      "metadata": {
        "colab": {
          "base_uri": "https://localhost:8080/"
        },
        "id": "0929c48c-cbcf-4c7b-8cc4-addde94d0be7",
        "outputId": "8bedc0ca-7b1e-46a0-ab62-c507319ff03f"
      },
      "outputs": [
        {
          "output_type": "stream",
          "name": "stdout",
          "text": [
            "+-------------+------------------+-----------+\n",
            "|      Country|         avg_price|total_sales|\n",
            "+-------------+------------------+-----------+\n",
            "|       Russia|            3600.0|     3600.0|\n",
            "|       Sweden|1753.8461538461538|    22800.0|\n",
            "|       Jersey|            1200.0|     1200.0|\n",
            "|  Philippines|            1200.0|     2400.0|\n",
            "|     Malaysia|            1200.0|     1200.0|\n",
            "|       Turkey|            1200.0|     7200.0|\n",
            "|      Germany|            1680.0|    42000.0|\n",
            "|       France|1966.6666666666667|    53100.0|\n",
            "|       Greece|            1200.0|     1200.0|\n",
            "|    Argentina|            1200.0|     1200.0|\n",
            "|      Belgium|            1500.0|    12000.0|\n",
            "|      Finland|            1200.0|     2400.0|\n",
            "|United States|1595.2380952380952|   737000.0|\n",
            "|        India|            1200.0|     2400.0|\n",
            "|        China|            1200.0|     1200.0|\n",
            "|       Kuwait|            1200.0|     1200.0|\n",
            "|        Malta|            2400.0|     4800.0|\n",
            "|        Italy|            2520.0|    37800.0|\n",
            "|       Norway|            1350.0|    21600.0|\n",
            "|        Spain|            1400.0|    16800.0|\n",
            "+-------------+------------------+-----------+\n",
            "only showing top 20 rows\n",
            "\n"
          ]
        }
      ],
      "source": [
        "# TODO 3: Group your dataframe by the column 'Country'. Then use aggregation to get the average of the column 'Price',\n",
        "# and the its 'sum', and print the result.\n",
        "grouped_df = df.groupBy(\"Country\").agg(avg(\"Price\").alias(\"avg_price\"),sum(\"Price\").alias(\"total_sales\"))\n",
        "grouped_df.show()"
      ]
    },
    {
      "cell_type": "markdown",
      "id": "46498888-3599-47c7-af9d-03d690ac2118",
      "metadata": {
        "id": "46498888-3599-47c7-af9d-03d690ac2118"
      },
      "source": [
        "## Part 3: Join two PySpark DataFrames on a common column and perform various operations:\n",
        "1. Create dataframes based on the data1, and data2 lists that are provided below.\n",
        "2. Remove and duplicates from the dataframes using the method .distinct().\n",
        "3. Join the two dataframes and sort the result by the column \"Age\" using the methods .join() and col(). Then print the result.<br>\n",
        "<strong>-- For the following steps, if it's not specified which dataframe to use as an input, use the joined dataframe. --</strong><br>\n",
        "4. Filter out all people that have male as gender using the .where() and col() methods.\n",
        "5. Select only the Columns Name, Age and Salary and print it.\n",
        "6. Based on the selection you did before, apply a group by based on the column Name, and perform aggregation on: (i) Average of Age, (ii) Sum of Salary, and print the result.\n",
        "7. Perform the following aggregation on Salary: (i) Average, (ii) Min, (iii) Max, and print the result.\n",
        "8. Based on the aggregated dataframe you created in the 7th step, rename all columns using the .withColumnRenamed() method to the following format: e.g. avg(Salary) -> average_salary\n",
        "9. Group your dataframe by Gender, and perform a new aggregation by calculating the average of the column Salary and the max of the column Age.\n",
        "10. Group by name, and rotate the column Gender from one column into multiple columns using the .pivot() method. Then, apply aggregation on the sum of Salary. Print the result.\n",
        "11. Drop the column Gender using the method .drop() and print the result.\n",
        "12. Add a new column in the dataframe called 'Salary Per Year', which will multiply columns 'Salary' by 13 (12 months per year, plus 13th salary) using the .withColumn() method. Print the result.\n",
        "13. Convert the dataframe you created in step 12 into a Pandas Dataframe. Then, sort the values based on 'Age' and create a bar plot where the column \"Name\" will be in x axis, and \"Salary Per Year\" as a \"y\" axis."
      ]
    },
    {
      "cell_type": "code",
      "execution_count": null,
      "id": "697e4e00-80d1-4e6b-b966-d681e7c04cb9",
      "metadata": {
        "id": "697e4e00-80d1-4e6b-b966-d681e7c04cb9"
      },
      "outputs": [],
      "source": [
        "# The columns are: \"Name\", \"Age\", and \"Gender\"\n",
        "data1 = [(\"John\", 27, \"M\"),\n",
        "         (\"Jane\", 30, \"F\"),\n",
        "         (\"Jim\", 35, \"M\"),\n",
        "         (\"Joanna\", 25, \"F\"),\n",
        "         (\"Joanna\", 25, \"F\"),\n",
        "         (\"Joanna\", 25, \"F\"),\n",
        "         (\"Joanna\", 25, \"F\"),\n",
        "         (\"Janine\", 40, \"F\")]\n",
        "\n",
        "# The columns are: \"Name\", \"Salary\"\n",
        "data2 = [(\"John\", 100),\n",
        "         (\"Jane\", 200),\n",
        "         (\"Jane\", 200),\n",
        "         (\"Jim\", 300),\n",
        "         (\"Joanna\", 400),\n",
        "         (\"Janine\", 500)]"
      ]
    },
    {
      "cell_type": "code",
      "execution_count": null,
      "id": "a2b9d2e3-4b1e-4291-9b1a-fbd38aff0a2b",
      "metadata": {
        "id": "a2b9d2e3-4b1e-4291-9b1a-fbd38aff0a2b"
      },
      "outputs": [],
      "source": [
        "# TODO 1: Create dataframes based on the data1, and data2 lists that are provided above.\n",
        "df1 =spark.createDataFrame(data1,[\"Name\",\"Age\",\"Gender\"])\n",
        "df2 =spark.createDataFrame(data2,[\"Name\",\"Salary\"])"
      ]
    },
    {
      "cell_type": "code",
      "execution_count": null,
      "id": "4a65d7e7-b87a-4f65-beb5-d7d0e41356ed",
      "metadata": {
        "id": "4a65d7e7-b87a-4f65-beb5-d7d0e41356ed"
      },
      "outputs": [],
      "source": [
        "# TODO 2: Remove and duplicates from the dataframes using the method .distinct()\n",
        "df1 = df1.distinct()\n",
        "df2 = df2.distinct()"
      ]
    },
    {
      "cell_type": "code",
      "execution_count": null,
      "id": "3e2c8469-b14e-4183-93d5-9d6f0cfefdb5",
      "metadata": {
        "colab": {
          "base_uri": "https://localhost:8080/"
        },
        "id": "3e2c8469-b14e-4183-93d5-9d6f0cfefdb5",
        "outputId": "12e3dd67-abf0-4c92-dd41-e3a761e0b8f0"
      },
      "outputs": [
        {
          "output_type": "stream",
          "name": "stdout",
          "text": [
            "+------+---+------+------+\n",
            "|  Name|Age|Gender|Salary|\n",
            "+------+---+------+------+\n",
            "|Joanna| 25|     F|   400|\n",
            "|  John| 27|     M|   100|\n",
            "|  Jane| 30|     F|   200|\n",
            "|   Jim| 35|     M|   300|\n",
            "|Janine| 40|     F|   500|\n",
            "+------+---+------+------+\n",
            "\n"
          ]
        }
      ],
      "source": [
        "# TODO 3: Join the two dataframes and sort the result by the column \"Age\" using the methods .join() and col(). Then print the result.\n",
        "joined_df = df1.join(df2,\"Name\").sort(\"Age\")\n",
        "joined_df.show()"
      ]
    },
    {
      "cell_type": "code",
      "execution_count": null,
      "id": "c94ac8e1-ecc4-4450-b4e8-c19c1cc91f91",
      "metadata": {
        "colab": {
          "base_uri": "https://localhost:8080/"
        },
        "id": "c94ac8e1-ecc4-4450-b4e8-c19c1cc91f91",
        "outputId": "beaac112-eaed-4f7a-fed7-f4c97d74b5ac"
      },
      "outputs": [
        {
          "output_type": "stream",
          "name": "stdout",
          "text": [
            "+------+---+------+------+\n",
            "|  Name|Age|Gender|Salary|\n",
            "+------+---+------+------+\n",
            "|Joanna| 25|     F|   400|\n",
            "|  Jane| 30|     F|   200|\n",
            "|Janine| 40|     F|   500|\n",
            "+------+---+------+------+\n",
            "\n"
          ]
        }
      ],
      "source": [
        "# TODO 4: Filter out all people that have male as gender using the .where() and col() methods.\n",
        "filtered_df = joined_df.where(joined_df.Gender==\"F\")\n",
        "filtered_df.show()"
      ]
    },
    {
      "cell_type": "code",
      "execution_count": null,
      "id": "9b251ecf-b430-444b-beb9-6007bc454f4c",
      "metadata": {
        "colab": {
          "base_uri": "https://localhost:8080/"
        },
        "id": "9b251ecf-b430-444b-beb9-6007bc454f4c",
        "outputId": "fbba70e8-3150-4b60-91d3-75499d908b91"
      },
      "outputs": [
        {
          "output_type": "stream",
          "name": "stdout",
          "text": [
            "+------+---+------+\n",
            "|  Name|Age|Salary|\n",
            "+------+---+------+\n",
            "|Joanna| 25|   400|\n",
            "|  John| 27|   100|\n",
            "|  Jane| 30|   200|\n",
            "|   Jim| 35|   300|\n",
            "|Janine| 40|   500|\n",
            "+------+---+------+\n",
            "\n"
          ]
        }
      ],
      "source": [
        "# TODO 5: Select only the Columns 'Name', 'Age' and 'Salary' and print it.\n",
        "selected_df = joined_df.select(\"Name\",\"Age\",\"Salary\")\n",
        "selected_df.show()"
      ]
    },
    {
      "cell_type": "code",
      "source": [
        "aggregated_df = selected_df.groupBy(\"Name\").agg({})\n"
      ],
      "metadata": {
        "id": "4RxDtU2F0xpx"
      },
      "id": "4RxDtU2F0xpx",
      "execution_count": null,
      "outputs": []
    },
    {
      "cell_type": "code",
      "execution_count": null,
      "id": "b30f7a99-ea1e-437a-ae2a-67556c2bf1d5",
      "metadata": {
        "colab": {
          "base_uri": "https://localhost:8080/"
        },
        "id": "b30f7a99-ea1e-437a-ae2a-67556c2bf1d5",
        "outputId": "cfc3b3fa-6592-4530-9133-644416702c9b"
      },
      "outputs": [
        {
          "output_type": "stream",
          "name": "stdout",
          "text": [
            "+------+-------+------------+\n",
            "|  Name|avg_age|total_salary|\n",
            "+------+-------+------------+\n",
            "|   Jim|   35.0|         300|\n",
            "|Joanna|   25.0|         400|\n",
            "|  John|   27.0|         100|\n",
            "|Janine|   40.0|         500|\n",
            "|  Jane|   30.0|         200|\n",
            "+------+-------+------------+\n",
            "\n"
          ]
        }
      ],
      "source": [
        "# TODO 6: Based on the selection you did before, apply a group by based on the column 'Name', and\n",
        "# perform aggregation on: (i) Average of Age, (ii) Sum of Salary, and print the result.\n",
        "aggregated_df = selected_df.groupBy(\"Name\").agg(avg(\"Age\").alias(\"avg_age\"),sum(\"Salary\").alias(\"total_salary\"))\n",
        "aggregated_df.show()"
      ]
    },
    {
      "cell_type": "code",
      "execution_count": null,
      "id": "6c9358d8-d494-4414-a303-7d020cce1ad2",
      "metadata": {
        "colab": {
          "base_uri": "https://localhost:8080/"
        },
        "id": "6c9358d8-d494-4414-a303-7d020cce1ad2",
        "outputId": "3676be2c-5d6a-458b-bff0-68176f2153d3"
      },
      "outputs": [
        {
          "output_type": "stream",
          "name": "stdout",
          "text": [
            "+-----------+-----------+-----------+\n",
            "|avg(Salary)|min(Salary)|max(Salary)|\n",
            "+-----------+-----------+-----------+\n",
            "|      300.0|        100|        500|\n",
            "+-----------+-----------+-----------+\n",
            "\n"
          ]
        }
      ],
      "source": [
        "# TODO 7: Perform the following aggregation on Salary: (i) Average, (ii) Min, (iii) Max, and print the result.\n",
        "df_aggregated = joined_df.agg(avg(\"Salary\"),min(\"Salary\"),max(\"Salary\"))\n",
        "df_aggregated.show()"
      ]
    },
    {
      "cell_type": "code",
      "execution_count": null,
      "id": "6a9f4c64-1002-4f17-be7a-cc7018bcaa17",
      "metadata": {
        "colab": {
          "base_uri": "https://localhost:8080/"
        },
        "id": "6a9f4c64-1002-4f17-be7a-cc7018bcaa17",
        "outputId": "adb20a1f-6619-4f37-d603-ff8b76a054b7"
      },
      "outputs": [
        {
          "output_type": "stream",
          "name": "stdout",
          "text": [
            "+--------------+----------+----------+\n",
            "|average_salary|min_salary|max_salary|\n",
            "+--------------+----------+----------+\n",
            "|         300.0|       100|       500|\n",
            "+--------------+----------+----------+\n",
            "\n"
          ]
        }
      ],
      "source": [
        "# TODO 8: Based on the aggregated dataframe you created in the 7th step, rename all columns using\n",
        "# the .withColumnRenamed() method to the following format: e.g. avg(Salary) -> average_salary\n",
        "df_aggregated.withColumnRenamed(\"avg(Salary)\",\"average_salary\").withColumnRenamed(\"min(Salary)\",\"min_salary\").withColumnRenamed(\"max(Salary)\",\"max_salary\").show()"
      ]
    },
    {
      "cell_type": "code",
      "execution_count": null,
      "id": "ab9879ef-e3e9-45d3-a4f0-cf05e807dd96",
      "metadata": {
        "colab": {
          "base_uri": "https://localhost:8080/"
        },
        "id": "ab9879ef-e3e9-45d3-a4f0-cf05e807dd96",
        "outputId": "f98e727f-dd5d-44e5-a86c-01fea9c7361c"
      },
      "outputs": [
        {
          "output_type": "stream",
          "name": "stdout",
          "text": [
            "+------+-----------------+--------+\n",
            "|Gender|      avg(Salary)|max(Age)|\n",
            "+------+-----------------+--------+\n",
            "|     F|366.6666666666667|      40|\n",
            "|     M|            200.0|      35|\n",
            "+------+-----------------+--------+\n",
            "\n"
          ]
        }
      ],
      "source": [
        "# TODO 9: Group your dataframe by Gender, and perform a new aggregation by calculating the average of\n",
        "# the column 'Salary' and the max of the column 'Age'.\n",
        "joined_df.groupBy(\"Gender\").agg(avg(\"Salary\"),max(\"Age\")).show()"
      ]
    },
    {
      "cell_type": "code",
      "execution_count": null,
      "id": "b3068303-2d36-4bbd-aa6b-2759260fb87c",
      "metadata": {
        "colab": {
          "base_uri": "https://localhost:8080/"
        },
        "id": "b3068303-2d36-4bbd-aa6b-2759260fb87c",
        "outputId": "a621053f-9e70-404f-e0e0-8d3f88595c99"
      },
      "outputs": [
        {
          "output_type": "stream",
          "name": "stdout",
          "text": [
            "+------+----+----+\n",
            "|  Name|   F|   M|\n",
            "+------+----+----+\n",
            "|   Jim|NULL| 300|\n",
            "|Joanna| 400|NULL|\n",
            "|  John|NULL| 100|\n",
            "|Janine| 500|NULL|\n",
            "|  Jane| 200|NULL|\n",
            "+------+----+----+\n",
            "\n"
          ]
        }
      ],
      "source": [
        "# TODO 10: Group by name, and rotate the column 'Gender' from one column into multiple columns using\n",
        "# the .pivot() method. Then, apply aggregation on the sum of 'Salary'. Print the result.\n",
        "joined_df.groupBy(\"Name\").pivot(\"Gender\").sum(\"Salary\").show()"
      ]
    },
    {
      "cell_type": "code",
      "execution_count": null,
      "id": "f9249e72-1ecc-4892-87ca-3d92e440d74f",
      "metadata": {
        "colab": {
          "base_uri": "https://localhost:8080/"
        },
        "id": "f9249e72-1ecc-4892-87ca-3d92e440d74f",
        "outputId": "1b5467ac-78e3-40df-b9e9-250aacada6b4"
      },
      "outputs": [
        {
          "output_type": "stream",
          "name": "stdout",
          "text": [
            "+------+---+------+\n",
            "|  Name|Age|Salary|\n",
            "+------+---+------+\n",
            "|Joanna| 25|   400|\n",
            "|  John| 27|   100|\n",
            "|  Jane| 30|   200|\n",
            "|   Jim| 35|   300|\n",
            "|Janine| 40|   500|\n",
            "+------+---+------+\n",
            "\n"
          ]
        }
      ],
      "source": [
        "# TODO 11: Drop the column 'Gender' using the method .drop() and print the result.\n",
        "joined_df.drop(\"Gender\").show()"
      ]
    },
    {
      "cell_type": "code",
      "execution_count": null,
      "id": "518c0700-1f76-4698-ba43-16e5c52a3c21",
      "metadata": {
        "colab": {
          "base_uri": "https://localhost:8080/"
        },
        "id": "518c0700-1f76-4698-ba43-16e5c52a3c21",
        "outputId": "cd945081-40e6-4dd6-a350-9cdc7e0c25e4"
      },
      "outputs": [
        {
          "output_type": "stream",
          "name": "stdout",
          "text": [
            "+------+---+------+------+---------------+\n",
            "|  Name|Age|Gender|Salary|Salary Per Year|\n",
            "+------+---+------+------+---------------+\n",
            "|Joanna| 25|     F|   400|           5200|\n",
            "|  John| 27|     M|   100|           1300|\n",
            "|  Jane| 30|     F|   200|           2600|\n",
            "|   Jim| 35|     M|   300|           3900|\n",
            "|Janine| 40|     F|   500|           6500|\n",
            "+------+---+------+------+---------------+\n",
            "\n"
          ]
        }
      ],
      "source": [
        "# TODO 12: Add a new column in the dataframe called 'Salary Per Year', which will multiply\n",
        "# columns 'Salary' by 13 (12 months per year, plus 13th salary) using the .withColumn() method. Print the result.\n",
        "total_df = joined_df.withColumn(\"Salary Per Year\",col(\"Salary\")*13)\n",
        "total_df.show()"
      ]
    },
    {
      "cell_type": "code",
      "execution_count": null,
      "id": "d0dbc39f-ed97-4c85-bd98-c1bbf9b72ab7",
      "metadata": {
        "colab": {
          "base_uri": "https://localhost:8080/",
          "height": 466
        },
        "id": "d0dbc39f-ed97-4c85-bd98-c1bbf9b72ab7",
        "outputId": "d95caadf-0118-45f8-8195-ab999320e678"
      },
      "outputs": [
        {
          "data": {
            "text/plain": [
              "<Axes: xlabel='Name'>"
            ]
          },
          "execution_count": 33,
          "metadata": {},
          "output_type": "execute_result"
        },
        {
          "data": {
            "image/png": "[encoded data removed]",
            "text/plain": [
              "<Figure size 640x480 with 1 Axes>"
            ]
          },
          "metadata": {},
          "output_type": "display_data"
        }
      ],
      "source": [
        "# TODO 13: Convert the dataframe you created in step 12 into a Pandas Dataframe.\n",
        "# Then, sort the values based on 'Age' and create a bar plot where the column \"Name\"\n",
        "# will be in x axis, and \"Salary Per Year\" as a \"y\" axis.\n",
        "\n",
        "# Convert the DataFrame to a Pandas DataFrame\n",
        "pandas_df =topandas\n",
        "# Create a bar plot\n",
        "pandas_df."
      ]
    },
    {
      "cell_type": "markdown",
      "id": "91ebd8e4-f849-4db7-a327-302e9ed1bf9d",
      "metadata": {
        "id": "91ebd8e4-f849-4db7-a327-302e9ed1bf9d"
      },
      "source": [
        "## Part 4: Num of products / country\n",
        "Reproduce the exercise we had for map-reduce but this time use pyspark dataframes.<br>\n",
        "- Read the \"SalesJan2009.csv\" file as before, and find the number of products and the sum of sales per country.\n",
        "\n",
        "There are various ways you can implement this, today we are going to implement this with two ways:<br>\n",
        "### Implementation 1:\n",
        "1. Read the csv file as a dataframe\n",
        "2. Select from that dataframe the columns \"Country\" and \"Price\" using the .select() method (it would also be a good idea to cast the column Price into an integer)\n",
        "3. Group the dataframe by the column \"Country\"\n",
        "4. Use the .agg() method to sum() and count() all prices\n",
        "5. Sort the dataframe by Country()\n",
        "\n",
        "<strong>For all implementations add the magic command %%time to compare processing time</strong>"
      ]
    },
    {
      "cell_type": "code",
      "execution_count": null,
      "id": "b83e09fc-f631-4003-a380-00da91471787",
      "metadata": {
        "colab": {
          "base_uri": "https://localhost:8080/"
        },
        "id": "b83e09fc-f631-4003-a380-00da91471787",
        "outputId": "2f5c100b-bc21-45e0-faba-5eb1c1b9207d"
      },
      "outputs": [
        {
          "name": "stdout",
          "output_type": "stream",
          "text": [
            "+------------------+-----+-----------+\n",
            "|           Country|count|total_sales|\n",
            "+------------------+-----+-----------+\n",
            "|         Argentina|    1|       1200|\n",
            "|         Australia|   38|      64800|\n",
            "|           Austria|    7|      10800|\n",
            "|           Bahrain|    1|       1200|\n",
            "|           Belgium|    8|      12000|\n",
            "|           Bermuda|    1|       1200|\n",
            "|            Brazil|    5|      12300|\n",
            "|          Bulgaria|    1|       1200|\n",
            "|            Canada|   76|     124800|\n",
            "|       Cayman Isls|    1|       1200|\n",
            "|             China|    1|       1200|\n",
            "|        Costa Rica|    1|       1200|\n",
            "|    Czech Republic|    3|       6000|\n",
            "|           Denmark|   15|      18000|\n",
            "|Dominican Republic|    1|       1200|\n",
            "|           Finland|    2|       2400|\n",
            "|            France|   27|      53100|\n",
            "|           Germany|   25|      42000|\n",
            "|            Greece|    1|       1200|\n",
            "|         Guatemala|    1|       1200|\n",
            "+------------------+-----+-----------+\n",
            "only showing top 20 rows\n",
            "\n",
            "CPU times: user 14.6 ms, sys: 3.58 ms, total: 18.2 ms\n",
            "Wall time: 1.06 s\n"
          ]
        }
      ],
      "source": [
        "%%time\n",
        "df =\n"
      ]
    },
    {
      "cell_type": "markdown",
      "id": "78ae21dd-af5d-433f-836f-952b7cad4dc7",
      "metadata": {
        "id": "78ae21dd-af5d-433f-836f-952b7cad4dc7"
      },
      "source": [
        "### Implementation 2:\n",
        "1. Load the file into a pyspark dataframe (use only the header=True as an extra option)\n",
        "2. Select only the columns Country and Price\n",
        "3. Convert the dataframe into an RDD\n",
        "4. Use the map-reduce RDD implementation that is given below, and apply it to the RDD you created.\n",
        "5. Convert your RDD back to a dataframe\n",
        "6. Print your result"
      ]
    },
    {
      "cell_type": "code",
      "execution_count": null,
      "id": "292f2163-6352-49eb-96b6-e6c716932a1d",
      "metadata": {
        "colab": {
          "base_uri": "https://localhost:8080/"
        },
        "id": "292f2163-6352-49eb-96b6-e6c716932a1d",
        "outputId": "e2dda522-bc96-4ac2-c135-d77488481b5f"
      },
      "outputs": [
        {
          "name": "stdout",
          "output_type": "stream",
          "text": [
            "+------------------+-----+-----------+\n",
            "|           Country|count|total_sales|\n",
            "+------------------+-----+-----------+\n",
            "|         Argentina|    1|       1200|\n",
            "|         Australia|   38|      64800|\n",
            "|           Austria|    7|      10800|\n",
            "|           Bahrain|    1|       1200|\n",
            "|           Belgium|    8|      12000|\n",
            "|           Bermuda|    1|       1200|\n",
            "|            Brazil|    5|      12300|\n",
            "|          Bulgaria|    1|       1200|\n",
            "|            Canada|   76|     124800|\n",
            "|       Cayman Isls|    1|       1200|\n",
            "|             China|    1|       1200|\n",
            "|        Costa Rica|    1|       1200|\n",
            "|    Czech Republic|    3|       6000|\n",
            "|           Denmark|   15|      18000|\n",
            "|Dominican Republic|    1|       1200|\n",
            "|           Finland|    2|       2400|\n",
            "|            France|   27|      53100|\n",
            "|           Germany|   25|      42000|\n",
            "|            Greece|    1|       1200|\n",
            "|         Guatemala|    1|       1200|\n",
            "+------------------+-----+-----------+\n",
            "only showing top 20 rows\n",
            "\n",
            "CPU times: user 41 ms, sys: 8.46 ms, total: 49.4 ms\n",
            "Wall time: 2.36 s\n"
          ]
        }
      ],
      "source": [
        "%%time\n",
        "df =\n"
      ]
    },
    {
      "cell_type": "markdown",
      "id": "efb40d77-5e88-4caf-aafd-5e0421ff19fc",
      "metadata": {
        "id": "efb40d77-5e88-4caf-aafd-5e0421ff19fc"
      },
      "source": [
        "### PySpark Code using RDDs"
      ]
    },
    {
      "cell_type": "code",
      "execution_count": null,
      "id": "beede9f1-b365-4a63-b949-409d7a61b6f1",
      "metadata": {
        "id": "beede9f1-b365-4a63-b949-409d7a61b6f1"
      },
      "outputs": [],
      "source": [
        "from pyspark import SparkContext, SparkConf\n",
        "\n",
        "sc = SparkContext.getOrCreate()"
      ]
    },
    {
      "cell_type": "code",
      "execution_count": null,
      "id": "2efe96a7-5dc9-458d-8e26-ae4727fad7d6",
      "metadata": {
        "colab": {
          "base_uri": "https://localhost:8080/"
        },
        "id": "2efe96a7-5dc9-458d-8e26-ae4727fad7d6",
        "outputId": "df9cb298-26a3-4aca-b5ae-9f8bda944e9f"
      },
      "outputs": [
        {
          "name": "stdout",
          "output_type": "stream",
          "text": [
            "CPU times: user 21.3 ms, sys: 10.1 ms, total: 31.4 ms\n",
            "Wall time: 1.4 s\n"
          ]
        },
        {
          "data": {
            "text/plain": [
              "[('Argentina', 1, 1200),\n",
              " ('Australia', 38, 64800),\n",
              " ('Austria', 7, 10800),\n",
              " ('Bahrain', 1, 1200),\n",
              " ('Belgium', 8, 12000),\n",
              " ('Bermuda', 1, 1200),\n",
              " ('Brazil', 5, 12300),\n",
              " ('Bulgaria', 1, 1200),\n",
              " ('CO', 1, 13),\n",
              " ('Canada', 76, 124800),\n",
              " ('Cayman Isls', 1, 1200),\n",
              " ('China', 1, 1200),\n",
              " ('Costa Rica', 1, 1200),\n",
              " ('Czech Republic', 3, 6000),\n",
              " ('Denmark', 15, 18000),\n",
              " ('Dominican Republic', 1, 1200),\n",
              " ('Finland', 2, 2400),\n",
              " ('France', 27, 53100),\n",
              " ('Germany', 25, 42000),\n",
              " ('Greece', 1, 1200),\n",
              " ('Guatemala', 1, 1200),\n",
              " ('Hong Kong', 1, 1200),\n",
              " ('Hungary', 3, 3600),\n",
              " ('Iceland', 1, 1200),\n",
              " ('India', 2, 2400),\n",
              " ('Ireland', 49, 69900),\n",
              " ('Israel', 1, 1200),\n",
              " ('Italy', 15, 37800),\n",
              " ('Japan', 2, 2400),\n",
              " ('Jersey', 1, 1200),\n",
              " ('Kuwait', 1, 1200),\n",
              " ('Latvia', 1, 1200),\n",
              " ('Luxembourg', 1, 1200),\n",
              " ('Malaysia', 1, 1200),\n",
              " ('Malta', 2, 4800),\n",
              " ('Mauritius', 1, 3600),\n",
              " ('Moldova', 1, 1200),\n",
              " ('Monaco', 2, 2400),\n",
              " ('Netherlands', 22, 44700),\n",
              " ('New Zealand', 6, 7200),\n",
              " ('Norway', 16, 21600),\n",
              " ('Philippines', 2, 2400),\n",
              " ('Poland', 2, 2400),\n",
              " ('Romania', 1, 1200),\n",
              " ('Russia', 1, 3600),\n",
              " ('South Africa', 5, 12300),\n",
              " ('South Korea', 1, 1200),\n",
              " ('Spain', 12, 16800),\n",
              " ('Sweden', 13, 22800),\n",
              " ('Switzerland', 36, 76800),\n",
              " ('Thailand', 2, 4800),\n",
              " ('The Bahamas', 2, 2400),\n",
              " ('Turkey', 6, 7200),\n",
              " ('Ukraine', 1, 1200),\n",
              " ('United Arab Emirates', 6, 12000),\n",
              " ('United Kingdom', 100, 144000),\n",
              " ('United States', 462, 737000)]"
            ]
          },
          "execution_count": 37,
          "metadata": {},
          "output_type": "execute_result"
        }
      ],
      "source": [
        "%%time\n",
        "# Reading file & ignoring first line (since it contains the column titles)\n",
        "header = sc.textFile(\"./SalesJan2009.csv\").first()\n",
        "data = sc.textFile(\"./SalesJan2009.csv\").filter(lambda row: row != header)\n",
        "\n",
        "def mapper(line):\n",
        "    columns = line.split(\",\")\n",
        "    return (columns[7], int(columns[2].replace(',', '').replace(\"\\\"\", \"\")))\n",
        "\n",
        "rdd = data.map(mapper).map(lambda word: (word[0], (1, word[1]))).reduceByKey(lambda x, y: (x[0]+y[0], x[1]+y[1])).sortByKey().map(lambda x: (x[0],) + x[1])\n",
        "rdd.collect()"
      ]
    }
  ],
  "metadata": {
    "colab": {
      "provenance": [],
      "include_colab_link": true
    },
    "kernelspec": {
      "display_name": "Python 3 (ipykernel)",
      "language": "python",
      "name": "python3"
    },
    "language_info": {
      "codemirror_mode": {
        "name": "ipython",
        "version": 3
      },
      "file_extension": ".py",
      "mimetype": "text/x-python",
      "name": "python",
      "nbconvert_exporter": "python",
      "pygments_lexer": "ipython3",
      "version": "3.9.13"
    }
  },
  "nbformat": 4,
  "nbformat_minor": 5
}